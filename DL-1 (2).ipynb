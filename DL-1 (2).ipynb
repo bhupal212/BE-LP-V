{
 "cells": [
  {
   "cell_type": "code",
   "execution_count": 3,
   "id": "a251d230-d786-42f2-b8f9-ac6347c8357d",
   "metadata": {},
   "outputs": [],
   "source": [
    "import tensorflow as tf"
   ]
  },
  {
   "cell_type": "code",
   "execution_count": 5,
   "id": "2acef3ee-bb63-4bd4-b559-fffcd64169d4",
   "metadata": {},
   "outputs": [],
   "source": [
    "from tensorflow.keras import layers,models"
   ]
  },
  {
   "cell_type": "code",
   "execution_count": 9,
   "id": "74c37b81-a550-4c43-a237-119fd9d5c728",
   "metadata": {},
   "outputs": [],
   "source": [
    "from sklearn.preprocessing import StandardScaler"
   ]
  },
  {
   "cell_type": "code",
   "execution_count": 11,
   "id": "e6a545c8-4600-4c73-ac70-e968413e6bac",
   "metadata": {},
   "outputs": [],
   "source": [
    "from sklearn.model_selection import train_test_split "
   ]
  },
  {
   "cell_type": "code",
   "execution_count": 13,
   "id": "086ae4b0-be66-432b-8d11-c38e49944ee7",
   "metadata": {},
   "outputs": [],
   "source": [
    "import matplotlib.pyplot as plt\n"
   ]
  },
  {
   "cell_type": "code",
   "execution_count": 14,
   "id": "c53c69f2-f576-4bbf-8dc7-15fe869046ec",
   "metadata": {},
   "outputs": [
    {
     "data": {
      "text/plain": [
       "'\\nimport pandas as pd\\nfrom sklearn.model_selection import train_test_split\\nfrom sklearn.preprocessing import StandardScaler\\n\\n# Load dataset\\ndf = pd.read_csv(\"BostonHousing.csv\")  # path to your local file\\n\\n# Split features and target\\nX = df.drop(columns=[\"MEDV\"])  # assuming \"MEDV\" is the target column\\ny = df[\"MEDV\"]\\n\\n# Split into train/test\\nxtrain, xtest, ytrain, ytest = train_test_split(X, y, test_size=0.2, random_state=42)\\n\\n# Scale the features\\nscaler = StandardScaler()\\nxtrain = scaler.fit_transform(xtrain)\\nxtest = scaler.transform(xtest)\\nMake sure the column name \"MEDV\" matches your file — it\\'s the Median value of owner-occupied homes, the usual target in the Boston Housing dataset.\\n'"
      ]
     },
     "execution_count": 14,
     "metadata": {},
     "output_type": "execute_result"
    }
   ],
   "source": [
    "boston_dataset = tf.keras.datasets.boston_housing.load_data()\n",
    "'''\n",
    "import pandas as pd\n",
    "from sklearn.model_selection import train_test_split\n",
    "from sklearn.preprocessing import StandardScaler\n",
    "\n",
    "# Load dataset\n",
    "df = pd.read_csv(\"BostonHousing.csv\")  # path to your local file\n",
    "\n",
    "# Split features and target\n",
    "X = df.drop(columns=[\"MEDV\"])  # assuming \"MEDV\" is the target column\n",
    "y = df[\"MEDV\"]\n",
    "\n",
    "# Split into train/test\n",
    "xtrain, xtest, ytrain, ytest = train_test_split(X, y, test_size=0.2, random_state=42)\n",
    "\n",
    "# Scale the features\n",
    "scaler = StandardScaler()\n",
    "xtrain = scaler.fit_transform(xtrain)\n",
    "xtest = scaler.transform(xtest)\n",
    "Make sure the column name \"MEDV\" matches your file — it's the Median value of owner-occupied homes, the usual target in the Boston Housing dataset.\n",
    "'''"
   ]
  },
  {
   "cell_type": "code",
   "execution_count": 17,
   "id": "c547e496-df04-4e60-bfe2-69830b9bc5b4",
   "metadata": {},
   "outputs": [],
   "source": [
    "(xtrain,ytrain),(xtest,ytest)=boston_dataset "
   ]
  },
  {
   "cell_type": "code",
   "execution_count": 19,
   "id": "dd0c412a-4bc0-423f-a9b5-7684734c381a",
   "metadata": {},
   "outputs": [],
   "source": [
    "scaler = StandardScaler()\n",
    "strain, xtest = scaler.fit_transform(xtrain), scaler.transform(xtest)"
   ]
  },
  {
   "cell_type": "code",
   "execution_count": 21,
   "id": "a41628e4-5f3c-42d7-ab55-6bd61c6a7d3d",
   "metadata": {},
   "outputs": [
    {
     "name": "stderr",
     "output_type": "stream",
     "text": [
      "C:\\androidst\\anainstalled\\Lib\\site-packages\\keras\\src\\layers\\core\\dense.py:87: UserWarning: Do not pass an `input_shape`/`input_dim` argument to a layer. When using Sequential models, prefer using an `Input(shape)` object as the first layer in the model instead.\n",
      "  super().__init__(activity_regularizer=activity_regularizer, **kwargs)\n"
     ]
    },
    {
     "data": {
      "text/plain": [
       "'\\nmodel = Sequential([\\n    Dense(128, activation=\\'relu\\', input_shape=(xtrain.shape[1],)), # Increased neurons\\n    Dropout(0.2), # Dropout to prevent overfitting\\n    Dense(64, activation=\\'relu\\'),\\n    Dropout(0.2),\\n    Dense(32, activation=\\'relu\\'),\\n    Dense(1) # Linear output layer for predicting continuous values\\n])\\n#model.compile(optimizer=\"adam\",loss=\"mse\")\\nmodel.compile(optimizer=\"adam\", loss=\"mse\", metrics=[\"mae\"]) '"
      ]
     },
     "execution_count": 21,
     "metadata": {},
     "output_type": "execute_result"
    }
   ],
   "source": [
    "from tensorflow.keras import layers,models\n",
    "\n",
    "model=models.Sequential([\n",
    "    layers.Dense(64,activation=\"relu\",input_shape=(xtrain.shape[1],)),\n",
    "    layers.Dense(1)\n",
    "])\n",
    "model.compile(optimizer=\"adam\",loss=\"mse\", metrics = ['mae'])\n",
    "'''\n",
    "model = Sequential([\n",
    "    Dense(128, activation='relu', input_shape=(xtrain.shape[1],)), # Increased neurons\n",
    "    Dropout(0.2), # Dropout to prevent overfitting\n",
    "    Dense(64, activation='relu'),\n",
    "    Dropout(0.2),\n",
    "    Dense(32, activation='relu'),\n",
    "    Dense(1) # Linear output layer for predicting continuous values\n",
    "])\n",
    "#model.compile(optimizer=\"adam\",loss=\"mse\")\n",
    "model.compile(optimizer=\"adam\", loss=\"mse\", metrics=[\"mae\"]) '''\n"
   ]
  },
  {
   "cell_type": "code",
   "execution_count": 23,
   "id": "ab912c64-4b91-436d-835c-ac1bbeb65c8c",
   "metadata": {},
   "outputs": [],
   "source": [
    "history=model.fit(xtrain,ytrain, epochs=100, validation_split=0.2, verbose=0)"
   ]
  },
  {
   "cell_type": "code",
   "execution_count": 24,
   "id": "22cd6b1e-c22f-44ec-8487-27fb99f82485",
   "metadata": {},
   "outputs": [
    {
     "data": {
      "image/png": "[encoded data removed]",
      "text/plain": [
       "<Figure size 640x480 with 1 Axes>"
      ]
     },
     "metadata": {},
     "output_type": "display_data"
    }
   ],
   "source": [
    "plt.plot(history.history['loss'], label=\"Training loss\")\n",
    "plt.plot(history.history['val_loss'], label=\"Validation loss\")\n",
    "plt.xlabel=(\"Epochs\")\n",
    "plt.ylabel=(\"MSE loss\")\n",
    "plt.legend()\n",
    "plt.show()"
   ]
  },
  {
   "cell_type": "markdown",
   "id": "5de106e2-c2ac-4c9a-a7c9-2c80cb25fbc5",
   "metadata": {},
   "source": []
  },
  {
   "cell_type": "code",
   "execution_count": 26,
   "id": "8da2dfc3-e6c1-4e0a-8505-7f68df2080c4",
   "metadata": {},
   "outputs": [],
   "source": [
    "mse=model.evaluate(xtest,ytest, verbose=0)"
   ]
  },
  {
   "cell_type": "code",
   "execution_count": 27,
   "id": "bd5cd658-11b4-4c25-b686-0ee6823f8195",
   "metadata": {},
   "outputs": [
    {
     "name": "stdout",
     "output_type": "stream",
     "text": [
      "MSE loss [565.0321044921875, 22.207313537597656]\n"
     ]
    }
   ],
   "source": [
    "print(\"MSE loss\",mse)"
   ]
  },
  {
   "cell_type": "code",
   "execution_count": 28,
   "id": "e3fc1614-4285-4dd8-95c1-6149a2c46e21",
   "metadata": {},
   "outputs": [
    {
     "name": "stdout",
     "output_type": "stream",
     "text": [
      "\u001b[1m4/4\u001b[0m \u001b[32m━━━━━━━━━━━━━━━━━━━━\u001b[0m\u001b[37m\u001b[0m \u001b[1m0s\u001b[0m 12ms/step - loss: 540.9493 - mae: 21.7706\n"
     ]
    }
   ],
   "source": [
    "model.compile(optimizer=\"adam\", loss=\"mse\", metrics=[\"mae\"])\n",
    "test_mae = model.evaluate(xtest, ytest)\n"
   ]
  },
  {
   "cell_type": "code",
   "execution_count": 29,
   "id": "d32ff19a-85d3-422f-a14d-162a84c0a720",
   "metadata": {},
   "outputs": [
    {
     "name": "stdout",
     "output_type": "stream",
     "text": [
      "\u001b[1m1/1\u001b[0m \u001b[32m━━━━━━━━━━━━━━━━━━━━\u001b[0m\u001b[37m\u001b[0m \u001b[1m0s\u001b[0m 70ms/step\n"
     ]
    }
   ],
   "source": [
    "ypred = model.predict(xtest[:5]).flatten()"
   ]
  },
  {
   "cell_type": "code",
   "execution_count": 30,
   "id": "e4a77bae-d6c4-4087-88ec-cd28256314ee",
   "metadata": {},
   "outputs": [
    {
     "name": "stdout",
     "output_type": "stream",
     "text": [
      "Test MAE: [565.0321044921875, 22.207313537597656]\n",
      "Actual Prices: [ 7.2 18.8 19.  27.  22.2]\n",
      "Predicted Prices: [ 0.3517227  -0.4224726   0.42073938  4.2734547   0.7360631 ]\n"
     ]
    }
   ],
   "source": [
    "print(f\"Test MAE: {test_mae}\")\n",
    "print(\"Actual Prices:\", ytest[:5])\n",
    "print(\"Predicted Prices:\", ypred)"
   ]
  },
  {
   "cell_type": "code",
   "execution_count": null,
   "id": "f3e6a4a5-131e-4c63-a573-f0c44dab7b37",
   "metadata": {},
   "outputs": [
    {
     "name": "stderr",
     "output_type": "stream",
     "text": [
      "C:\\androidst\\anainstalled\\Lib\\site-packages\\keras\\src\\layers\\core\\dense.py:87: UserWarning: Do not pass an `input_shape`/`input_dim` argument to a layer. When using Sequential models, prefer using an `Input(shape)` object as the first layer in the model instead.\n",
      "  super().__init__(activity_regularizer=activity_regularizer, **kwargs)\n"
     ]
    }
   ],
   "source": [
    "\n",
    "\n",
    "import tensorflow as tf\n",
    "\n",
    "\n",
    "     \n",
    "\n",
    "from tensorflow.keras import layers,models\n",
    "\n",
    "\n",
    "     \n",
    "\n",
    "from sklearn.preprocessing import StandardScaler\n",
    "\n",
    "\n",
    "     \n",
    "\n",
    "from sklearn.model_selection import train_test_split \n",
    "\n",
    "\n",
    "     \n",
    "\n",
    "import matplotlib.pyplot as plt\n",
    "\n",
    "\n",
    "     \n",
    "\n",
    "#from sklearn.datasets import fetch_california_housing\n",
    "boston_dataset = tf.keras.datasets.boston_housing.load_data()\n",
    "#data = fetch_california_housing()\n",
    "#X_train, X_test, y_train, y_test = train_test_split(data.data, data.target, test_size=0.2, random_state=42)\n",
    "# Standardize the data to improve model performance\n",
    "#scaler = StandardScaler()\n",
    "#X_train, X_test = scaler.fit_transform(X_train), scaler.transform(X_test)\n",
    "\n",
    "'''\n",
    "import pandas as pd\n",
    "from sklearn.model_selection import train_test_split\n",
    "from sklearn.preprocessing import StandardScaler\n",
    "\n",
    "# Load dataset\n",
    "df = pd.read_csv(\"BostonHousing.csv\")  # path to your local file\n",
    "\n",
    "# Split features and target\n",
    "X = df.drop(columns=[\"MEDV\"])  # assuming \"MEDV\" is the target column\n",
    "y = df[\"MEDV\"]\n",
    "\n",
    "# Split into train/test\n",
    "xtrain, xtest, ytrain, ytest = train_test_split(X, y, test_size=0.2, random_state=42)\n",
    "\n",
    "# Scale the features\n",
    "scaler = StandardScaler()\n",
    "xtrain = scaler.fit_transform(xtrain)\n",
    "xtest = scaler.transform(xtest)\n",
    "Make sure the column name \"MEDV\" matches your file — it's the Median value of owner-occupied homes, the usual target in the Boston Housing dataset.\n",
    "'''\n",
    "\n",
    "\n",
    "     \n",
    "'\\nimport pandas as pd\\nfrom sklearn.model_selection import train_test_split\\nfrom sklearn.preprocessing import StandardScaler\\n\\n# Load dataset\\ndf = pd.read_csv(\"BostonHousing.csv\")  # path to your local file\\n\\n# Split features and target\\nX = df.drop(columns=[\"MEDV\"])  # assuming \"MEDV\" is the target column\\ny = df[\"MEDV\"]\\n\\n# Split into train/test\\nxtrain, xtest, ytrain, ytest = train_test_split(X, y, test_size=0.2, random_state=42)\\n\\n# Scale the features\\nscaler = StandardScaler()\\nxtrain = scaler.fit_transform(xtrain)\\nxtest = scaler.transform(xtest)\\nMake sure the column name \"MEDV\" matches your file — it\\'s the Median value of owner-occupied homes, the usual target in the Boston Housing dataset.\\n'\n",
    "\n",
    "(xtrain,ytrain),(xtest,ytest)=boston_dataset \n",
    "\n",
    "\n",
    "     \n",
    "\n",
    "scaler = StandardScaler()\n",
    "strain, xtest = scaler.fit_transform(xtrain), scaler.transform(xtest)\n",
    "\n",
    "\n",
    "     \n",
    "\n",
    "model=models.Sequential([\n",
    "    layers.Dense(64,activation=\"relu\",input_shape=(xtrain.shape[1],)),\n",
    "    layers.Dense(1)\n",
    "])\n",
    "model.compile(optimizer=\"adam\",loss=\"mse\", metrics = ['mae'])\n",
    "'''\n",
    "model = Sequential([\n",
    "    Dense(128, activation='relu', input_shape=(xtrain.shape[1],)), # Increased neurons\n",
    "    Dropout(0.2), # Dropout to prevent overfitting\n",
    "    Dense(64, activation='relu'),\n",
    "    Dropout(0.2),\n",
    "    Dense(32, activation='relu'),\n",
    "    Dense(1) # Linear output layer for predicting continuous values\n",
    "])\n",
    "model.compile(optimizer=\"adam\",loss=\"mse\")\n",
    "'''\n",
    "\n",
    "\n",
    "     \n",
    "\n",
    "\n",
    "history=model.fit(xtrain,ytrain, epochs=100, validation_split=0.2, verbose=0)\n",
    "\n",
    "\n",
    "     \n",
    "'''\n",
    "plt.plot(history.history['loss'], label=\"Training loss\")\n",
    "plt.plot(history.history['val_loss'], label=\"Validation loss\")\n",
    "plt.xlabel=(\"Epochs\")\n",
    "plt.ylabel=(\"MSE loss\")\n",
    "plt.legend()\n",
    "plt.show()\n",
    "'''\n",
    "\n",
    "     \n",
    "\n",
    "\n",
    "loss, mae=model.evaluate(xtest,ytest, verbose=0)\n",
    "\n",
    "\n",
    "     \n",
    "\n",
    "print(\"MSE loss\",loss)\n",
    "\n",
    "\n",
    "\n",
    "\n",
    "# test_mae = model.evaluate(xtest, ytest)\n",
    "\n",
    "\n",
    "     \n",
    "\n",
    "\n",
    "ypred = model.predict(xtest).flatten()\n",
    "\n",
    "\n",
    "     \n",
    "\n",
    "print(f\"Test MAE: {mae}\")\n",
    "print(\"Actual Prices:\", ytest)\n",
    "print(\"Predicted Prices:\", ypred)\n",
    "\n",
    "\n",
    "     \n",
    "\n",
    "\n",
    "     "
   ]
  },
  {
   "cell_type": "code",
   "execution_count": 52,
   "id": "50833bc4-adcc-4ad4-b7ea-7f967c19786a",
   "metadata": {},
   "outputs": [
    {
     "name": "stderr",
     "output_type": "stream",
     "text": [
      "C:\\androidst\\anainstalled\\Lib\\site-packages\\keras\\src\\layers\\core\\dense.py:87: UserWarning: Do not pass an `input_shape`/`input_dim` argument to a layer. When using Sequential models, prefer using an `Input(shape)` object as the first layer in the model instead.\n",
      "  super().__init__(activity_regularizer=activity_regularizer, **kwargs)\n"
     ]
    },
    {
     "name": "stdout",
     "output_type": "stream",
     "text": [
      "\u001b[1m4/4\u001b[0m \u001b[32m━━━━━━━━━━━━━━━━━━━━\u001b[0m\u001b[37m\u001b[0m \u001b[1m0s\u001b[0m 4ms/step - loss: 18.4218 \n",
      "MSE Loss :  25.19982147216797\n",
      "\u001b[1m4/4\u001b[0m \u001b[32m━━━━━━━━━━━━━━━━━━━━\u001b[0m\u001b[37m\u001b[0m \u001b[1m0s\u001b[0m 5ms/step - loss: 18.4218 \n",
      "WARNING:tensorflow:6 out of the last 8 calls to <function TensorFlowTrainer.make_predict_function.<locals>.one_step_on_data_distributed at 0x000001A8B6D16FC0> triggered tf.function retracing. Tracing is expensive and the excessive number of tracings could be due to (1) creating @tf.function repeatedly in a loop, (2) passing tensors with different shapes, (3) passing Python objects instead of tensors. For (1), please define your @tf.function outside of the loop. For (2), @tf.function has reduce_retracing=True option that can avoid unnecessary retracing. For (3), please refer to https://www.tensorflow.org/guide/function#controlling_retracing and https://www.tensorflow.org/api_docs/python/tf/function for  more details.\n",
      "\u001b[1m4/4\u001b[0m \u001b[32m━━━━━━━━━━━━━━━━━━━━\u001b[0m\u001b[37m\u001b[0m \u001b[1m1s\u001b[0m 26ms/step\n",
      "Test MAE :  25.19982147216797\n",
      "Actual Price :  [ 7.2 18.8 19.  27.  22.2 24.5 31.2 22.9 20.5 23.2 18.6 14.5 17.8 50.\n",
      " 20.8 24.3 24.2 19.8 19.1 22.7 12.  10.2 20.  18.5 20.9 23.  27.5 30.1\n",
      "  9.5 22.  21.2 14.1 33.1 23.4 20.1  7.4 15.4 23.8 20.1 24.5 33.  28.4\n",
      " 14.1 46.7 32.5 29.6 28.4 19.8 20.2 25.  35.4 20.3  9.7 14.5 34.9 26.6\n",
      "  7.2 50.  32.4 21.6 29.8 13.1 27.5 21.2 23.1 21.9 13.  23.2  8.1  5.6\n",
      " 21.7 29.6 19.6  7.  26.4 18.9 20.9 28.1 35.4 10.2 24.3 43.1 17.6 15.4\n",
      " 16.2 27.1 21.4 21.5 22.4 25.  16.6 18.6 22.  42.8 35.1 21.5 36.  21.9\n",
      " 24.1 50.  26.7 25. ]\n",
      "Predicted Price :  [ 9.184744  17.735163  21.01447   33.900314  25.085009  20.660099\n",
      " 27.24979   21.08314   19.576563  21.950434  20.450897  17.099209\n",
      " 15.206931  41.861538  20.131872  20.259533  25.585173  20.897106\n",
      " 17.680157  35.821022  11.150567  14.927062  20.616516  15.717478\n",
      " 20.399778  24.992298  33.104263  30.45276   11.037786  20.778873\n",
      " 18.92986   15.561628  35.37038   23.965164  18.92228    8.512628\n",
      " 14.7661    17.495905  19.282526  25.383162  31.580826  28.031939\n",
      " 13.4160795 41.88706   30.73912   24.348064  26.699543  15.619354\n",
      " 23.179428  21.384962  33.794632  20.541157  10.689691  15.290341\n",
      " 36.59793   27.449978  12.292856  49.35308   36.907845  23.65533\n",
      " 25.514885  17.02594   15.464895  19.017454  23.225754  22.07222\n",
      " 12.590759  21.732307  12.474084   7.555773  35.329384  30.29263\n",
      " 25.081087  13.309102  25.328873  18.622097  20.106432  22.61541\n",
      " 34.49505   10.131832  19.935196  39.39546   16.71698   13.058856\n",
      " 16.715816  18.457212  21.938683  20.40245   21.892307  32.282692\n",
      " 20.140327  20.235899  24.902143  43.23147   35.363228  18.274418\n",
      " 36.974453  55.27691   26.290998  48.252064  34.635845  20.494612 ]\n"
     ]
    }
   ],
   "source": [
    "\n",
    "\n",
    "\n",
    "import tensorflow as tf\n",
    "from tensorflow.keras.models import Sequential\n",
    "from tensorflow.keras.layers import Dense, Dropout\n",
    "from sklearn.preprocessing import StandardScaler\n",
    "from sklearn.model_selection import train_test_split\n",
    "import matplotlib.pyplot as plt\n",
    "     \n",
    "\n",
    "boston_dataset = tf.keras.datasets.boston_housing.load_data()\n",
    "     \n",
    "\n",
    "(xtrain,ytrain),(xtest,ytest) = boston_dataset\n",
    "     \n",
    "\n",
    "scaler = StandardScaler()\n",
    "xtrain, xtest = scaler.fit_transform(xtrain), scaler.transform(xtest)\n",
    "     \n",
    "\n",
    "model = Sequential([\n",
    "    Dense(128, activation='relu', input_shape = (xtrain.shape[1],)),\n",
    "    Dropout(0.2),\n",
    "    Dense(64, activation='relu'),\n",
    "    Dropout(0.2),\n",
    "    Dense(32, activation='relu'),\n",
    "    Dense(1)\n",
    "])\n",
    "     \n",
    "\n",
    "\n",
    "model.compile(optimizer='adam', loss='mse')\n",
    "     \n",
    "\n",
    "history = model.fit(xtrain, ytrain, epochs=100, validation_split=0.2, verbose=0)\n",
    "     \n",
    "'''\n",
    "plt.plot(history.history['loss'], label=\"Training Loss\")\n",
    "plt.plot(history.history['val_loss'], label=\"validation Loss\")\n",
    "plt.xlabel('Epochs')\n",
    "plt.ylabel('Loss')\n",
    "plt.legend()\n",
    "plt.show()\n",
    "'''   \n",
    "\n",
    "\n",
    "mse = model.evaluate(xtest, ytest)\n",
    "print(\"MSE Loss : \", mse)\n",
    "     \n",
    "\n",
    "\n",
    "mae = model.evaluate(xtest, ytest)\n",
    "     \n",
    "\n",
    "ypred = model.predict(xtest).flatten()\n",
    "     \n",
    "\n",
    "\n",
    "print(\"Test MAE : \", mae)\n",
    "print(\"Actual Price : \", ytest)\n",
    "print(\"Predicted Price : \", ypred)\n",
    "     \n"
   ]
  },
  {
   "cell_type": "code",
   "execution_count": null,
   "id": "dc73fc40-a650-449d-81d9-3a10459c474c",
   "metadata": {},
   "outputs": [],
   "source": []
  }
 ],
 "metadata": {
  "kernelspec": {
   "display_name": "Python 3 (ipykernel)",
   "language": "python",
   "name": "python3"
  },
  "language_info": {
   "codemirror_mode": {
    "name": "ipython",
    "version": 3
   },
   "file_extension": ".py",
   "mimetype": "text/x-python",
   "name": "python",
   "nbconvert_exporter": "python",
   "pygments_lexer": "ipython3",
   "version": "3.12.4"
  }
 },
 "nbformat": 4,
 "nbformat_minor": 5
}
